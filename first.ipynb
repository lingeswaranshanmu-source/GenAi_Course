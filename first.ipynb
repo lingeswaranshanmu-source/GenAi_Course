{
 "cells": [
  {
   "cell_type": "code",
   "execution_count": 1,
   "id": "99d46836",
   "metadata": {},
   "outputs": [],
   "source": [
    "a=1"
   ]
  },
  {
   "cell_type": "code",
   "execution_count": 14,
   "id": "39770b8d",
   "metadata": {},
   "outputs": [
    {
     "name": "stdout",
     "output_type": "stream",
     "text": [
      "Hello there! I am Ling\n"
     ]
    }
   ],
   "source": [
    "file = open(\"notes.txt\",'r')\n",
    "content = file.read()\n",
    "print(content)"
   ]
  },
  {
   "cell_type": "code",
   "execution_count": 17,
   "id": "35c473d3",
   "metadata": {},
   "outputs": [],
   "source": [
    "#write file\n",
    "file = open(\"notes.txt\",'w')\n",
    "file.write('Hello there! I am Ling')\n",
    "file.close()\n"
   ]
  },
  {
   "cell_type": "code",
   "execution_count": 19,
   "id": "22632ef7",
   "metadata": {},
   "outputs": [],
   "source": [
    "#append file\n",
    "file = open(\"notes.txt\",'a')\n",
    "file.write('\\nLove to code\\n')\n",
    "file.write('\\ngoing to create\\n')\n",
    "file.close()"
   ]
  },
  {
   "cell_type": "code",
   "execution_count": 24,
   "id": "d9b37da2",
   "metadata": {},
   "outputs": [
    {
     "name": "stdout",
     "output_type": "stream",
     "text": [
      "Hello there! I am Ling\n",
      "Love to code\n",
      "\n",
      "going to create\n",
      "\n"
     ]
    }
   ],
   "source": [
    "with open(\"notes.txt\",'r') as file:\n",
    "    content = file.read()\n",
    "print(content)"
   ]
  },
  {
   "cell_type": "code",
   "execution_count": null,
   "id": "594db2cf",
   "metadata": {},
   "outputs": [
    {
     "data": {
      "text/plain": [
       "'/Users/ling/Desktop/Python'"
      ]
     },
     "execution_count": 25,
     "metadata": {},
     "output_type": "execute_result"
    }
   ],
   "source": [
    "#to find current directory\n",
    "import os\n",
    "\n",
    "os.getcwd()"
   ]
  },
  {
   "cell_type": "code",
   "execution_count": null,
   "id": "0e1b0744",
   "metadata": {},
   "outputs": [],
   "source": [
    "#to create a new folder\n",
    "os.mkdir(\"test\")"
   ]
  },
  {
   "cell_type": "code",
   "execution_count": null,
   "id": "84825787",
   "metadata": {},
   "outputs": [],
   "source": []
  }
 ],
 "metadata": {
  "kernelspec": {
   "display_name": "ling",
   "language": "python",
   "name": "python3"
  },
  "language_info": {
   "codemirror_mode": {
    "name": "ipython",
    "version": 3
   },
   "file_extension": ".py",
   "mimetype": "text/x-python",
   "name": "python",
   "nbconvert_exporter": "python",
   "pygments_lexer": "ipython3",
   "version": "3.13.7"
  }
 },
 "nbformat": 4,
 "nbformat_minor": 5
}
